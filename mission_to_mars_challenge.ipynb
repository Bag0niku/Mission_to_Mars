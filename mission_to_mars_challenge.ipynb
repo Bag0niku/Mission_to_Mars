{
 "cells": [
  {
   "cell_type": "code",
   "execution_count": 1,
   "id": "9bb883d2",
   "metadata": {},
   "outputs": [],
   "source": [
    "from splinter import Browser\n",
    "from bs4 import BeautifulSoup as bs\n",
    "from webdriver_manager.chrome import ChromeDriverManager as CDM\n",
    "from config import chromeDriver\n",
    "import pandas as pd\n",
    "import time\n"
   ]
  },
  {
   "cell_type": "markdown",
   "id": "77523019",
   "metadata": {},
   "source": [
    "## Red Planet Science\n",
    "- URL: https://redplanetscience.com/\n",
    "- Pull recent news stories about Mars"
   ]
  },
  {
   "cell_type": "code",
   "execution_count": 2,
   "id": "4cc622ce",
   "metadata": {},
   "outputs": [],
   "source": [
    "url = \"https://redplanetscience.com\""
   ]
  },
  {
   "cell_type": "code",
   "execution_count": 3,
   "id": "2b4ecbc6",
   "metadata": {},
   "outputs": [],
   "source": [
    "browser = Browser(\"chrome\", executable_path=chromeDriver, headless=True)"
   ]
  },
  {
   "cell_type": "code",
   "execution_count": 4,
   "id": "dc5a376f",
   "metadata": {},
   "outputs": [
    {
     "data": {
      "text/plain": [
       "True"
      ]
     },
     "execution_count": 4,
     "metadata": {},
     "output_type": "execute_result"
    }
   ],
   "source": [
    "browser.visit(url)\n",
    "browser.is_element_present_by_css(\"div.list_text\", wait_time=3)"
   ]
  },
  {
   "cell_type": "code",
   "execution_count": 5,
   "id": "2662f4f5",
   "metadata": {},
   "outputs": [],
   "source": [
    "html = browser.html\n",
    "soup = bs(html, \"html.parser\")"
   ]
  },
  {
   "cell_type": "markdown",
   "id": "4b7d63cb",
   "metadata": {},
   "source": [
    "Website Content Article Structure:\n",
    "- tag: div class=\"row\"\n",
    "  - tag: div class = \"list_text\"\n",
    "    - tag: div class = \"list_date\"\n",
    "    - tag: div class = \"content_title\"\n",
    "    - tag: div class = \"article_teaser_body\"\n",
    "\n",
    "\n"
   ]
  },
  {
   "cell_type": "code",
   "execution_count": 6,
   "id": "0053e5fe",
   "metadata": {},
   "outputs": [
    {
     "data": {
      "text/plain": [
       "{'title': 'Space History Is Made in This NASA Robot Factory',\n",
       " 'date': 'August 18, 2022',\n",
       " 'summary': \"From rockets to rovers, JPL's Spacecraft Assembly Facility has been at the center of robotic spaceflight. Here's a closer look at what makes it so special.\"}"
      ]
     },
     "execution_count": 6,
     "metadata": {},
     "output_type": "execute_result"
    }
   ],
   "source": [
    "article = soup.find(\"div\", attrs={\"class\":\"row\"})\n",
    "news_title = article.find('div', attrs={\"class\":\"content_title\"}).get_text()\n",
    "news_date = article.find(\"div\", attrs={\"class\":\"list_date\"}).get_text()\n",
    "news_summary = article.find(\"div\", attrs={\"class\":\"article_teaser_body\"}).get_text()\n",
    "{\"title\" : news_title, \"date\" : news_date, \"summary\" : news_summary}"
   ]
  },
  {
   "cell_type": "markdown",
   "id": "5a8233cf",
   "metadata": {},
   "source": [
    "## Space Images\n",
    "- URL https://spaceimages-mars.com/\n",
    "- Pull recent images of Mars"
   ]
  },
  {
   "cell_type": "code",
   "execution_count": 7,
   "id": "aadf1ced",
   "metadata": {},
   "outputs": [],
   "source": [
    "url = \"https://spaceimages-mars.com/\"\n",
    "browser.visit(url)\n",
    "browser.is_element_present_by_text(\"FULL IMAGE\", wait_time=3)   \n",
    "browser.links.find_by_partial_text(\"FULL IMAGE\").click()"
   ]
  },
  {
   "cell_type": "code",
   "execution_count": 8,
   "id": "6a366635",
   "metadata": {},
   "outputs": [],
   "source": [
    "html = browser.html\n",
    "soup = bs(html, \"html.parser\")"
   ]
  },
  {
   "cell_type": "code",
   "execution_count": null,
   "id": "3bca5b77",
   "metadata": {},
   "outputs": [],
   "source": []
  },
  {
   "cell_type": "code",
   "execution_count": 9,
   "id": "9be1d4f4",
   "metadata": {},
   "outputs": [
    {
     "data": {
      "text/plain": [
       "<img alt=\"\" class=\"fancybox-image\" src=\"image/featured/mars3.jpg\"/>"
      ]
     },
     "execution_count": 9,
     "metadata": {},
     "output_type": "execute_result"
    }
   ],
   "source": [
    "\n",
    "soup.find(\"img\", attrs={\"class\":\"fancybox-image\"})"
   ]
  },
  {
   "cell_type": "code",
   "execution_count": 10,
   "id": "c0619c35",
   "metadata": {},
   "outputs": [
    {
     "data": {
      "text/plain": [
       "'https://spaceimages-mars.com/image/featured/mars3.jpg'"
      ]
     },
     "execution_count": 10,
     "metadata": {},
     "output_type": "execute_result"
    }
   ],
   "source": [
    "image_url = soup.find(\"img\", attrs={\"class\":\"fancybox-image\"}).get(\"src\")\n",
    "new_url = url+image_url\n",
    "new_url"
   ]
  },
  {
   "cell_type": "markdown",
   "id": "032cc039",
   "metadata": {},
   "source": [
    "## Mars Facts\n",
    "- URL:  https://galaxyfacts-mars.com/\n",
    "- Pull statistical information for the web app"
   ]
  },
  {
   "cell_type": "code",
   "execution_count": 11,
   "id": "38ce0d7a",
   "metadata": {},
   "outputs": [],
   "source": [
    "url = \"https://galaxyfacts-mars.com/\"\n",
    "browser.visit(url)"
   ]
  },
  {
   "cell_type": "code",
   "execution_count": 12,
   "id": "ecc22ac7",
   "metadata": {},
   "outputs": [],
   "source": [
    "soup = bs(browser.html, \"html.parser\")"
   ]
  },
  {
   "cell_type": "code",
   "execution_count": 13,
   "id": "464478bc",
   "metadata": {},
   "outputs": [
    {
     "data": {
      "text/plain": [
       "<html><head>\n",
       "<meta charset=\"utf-8\"/>\n",
       "<meta content=\"width=device-width, initial-scale=1\" name=\"viewport\"/>\n",
       "<link href=\"https://maxcdn.bootstrapcdn.com/bootstrap/4.0.0/css/bootstrap.min.css\" rel=\"stylesheet\"/>\n",
       "<link href=\"css/font.css\" rel=\"stylesheet\" type=\"text/css\"/>\n",
       "<link href=\"css/app.css\" rel=\"stylesheet\" type=\"text/css\"/>\n",
       "<link href=\"https://stackpath.bootstrapcdn.com/font-awesome/4.7.0/css/font-awesome.min.css\" rel=\"stylesheet\" type=\"text/css\"/>\n",
       "<title>Mars Facts - Interesting facts about Planet Mars</title>\n",
       "</head>\n",
       "<body>\n",
       "<nav class=\"navbar navbar-expand-lg navbar-light fixed-top\">\n",
       "<div class=\"container\">\n",
       "<a class=\"navbar-brand\" href=\"#\"> <img src=\"image/logo.png\"/>\n",
       "</a>\n",
       "<button aria-controls=\"navbarNav\" aria-expanded=\"false\" aria-label=\"Toggle navigation\" class=\"navbar-toggler\" data-bs-target=\"#navbarNav\" data-bs-toggle=\"collapse\" type=\"button\">\n",
       "<span class=\"navbar-toggler-icon\"></span>\n",
       "</button>\n",
       "<div class=\"collapse navbar-collapse justify-content-end\" id=\"navbarNav\">\n",
       "<ul class=\"navbar-nav\">\n",
       "<li class=\"nav-item\">\n",
       "<a aria-current=\"page\" class=\"nav-link active\" href=\"#\">Planets</a>\n",
       "</li>\n",
       "<li class=\"nav-item\">\n",
       "<a class=\"nav-link\" href=\"#\">Solar System</a>\n",
       "</li>\n",
       "<li class=\"nav-item\">\n",
       "<a class=\"nav-link\" href=\"#\">Galaxies</a>\n",
       "</li>\n",
       "<li class=\"nav-item\">\n",
       "<a class=\"nav-link\" href=\"#\">Moons</a>\n",
       "</li>\n",
       "<li class=\"nav-item\">\n",
       "<a class=\"nav-link\" href=\"#\">Universe</a>\n",
       "</li>\n",
       "<li class=\"nav-item nav_search\">\n",
       "<a class=\"nav-link\" href=\"#\"><i aria-hidden=\"true\" class=\"fa fa-search\"></i></a>\n",
       "</li>\n",
       "</ul>\n",
       "</div>\n",
       "</div>\n",
       "</nav>\n",
       "<div class=\"container-fluid site-content\" style=\"margin-top: 150px;\">\n",
       "<div class=\"col-md-12\">\n",
       "<div class=\"row\">\n",
       "<div class=\"col-md-8\">\n",
       "<div class=\"content-single\">\n",
       "<h2 class=\"page-title\">Mars Facts</h2>\n",
       "<img class=\"img-fluid\" src=\"https://space-facts.com/wp-content/uploads/mars.jpg\"/>\n",
       "<p class=\"mt-5\">Mars is the fourth planet from the <span class=\"red\"> Sun </span> and is the second smallest planet in the solar system. Named after the Roman god of war, Mars is also often described as the “Red Planet” due to its reddish appearance. Mars is a <span class=\"red\">terrestrial planet</span> with a thin atmosphere composed primarily of carbon dioxide.</p>\n",
       "<h3>Facts about Mars</h3>\n",
       "<ul class=\"mt-3\">\n",
       "<li>\n",
       "<h5>Mars and Earth have approximately the same landmass.</h5>\n",
       "<p>Even though Mars has only 15% of the Earth’s volume and just over 10% of the <span class=\"red\">Earth’s</span> mass, around two thirds of the Earth’s surface is covered in water. Martian surface gravity is only 37% of the Earth’s (meaning you could leap nearly three times higher on Mars).</p>\n",
       "</li>\n",
       "<li>\n",
       "<h5>Mars is home to the tallest mountain in the solar system.</h5>\n",
       "<p><span class=\"red\">Olympus Mons</span>, a shield volcano, is 21km high and 600km in diameter. Despite having formed over billions of years, evidence from volcanic lava flows is so recent many scientists believe it could still be active.</p>\n",
       "</li>\n",
       "<li>\n",
       "<h5>Only 18 missions to Mars have been successful.</h5>\n",
       "<p>As of September 2014 there have been 40 <span class=\"red\"> missions to Mars</span>, including orbiters, landers and rovers but not counting flybys. The most recent arrivals include the Mars Curiosity mission in 2012, the MAVEN mission, which arrived on September 22, 2014, followed by the Indian Space Research Organization’s MOM Mangalyaan orbiter, which arrived on September 24, 2014. The next missions to arrive will be the European Space Agency’s ExoMars mission, comprising an orbiter, lander, and a rover, followed by NASA’s InSight robotic lander mission, slated for launch in March 2016 and a planned arrival in September, 2016.</p>\n",
       "</li>\n",
       "<li>\n",
       "<h5>Mars has the largest dust storms in the solar system.</h5>\n",
       "<p>They can last for months and cover the entire planet. The seasons are extreme because its elliptical (oval-shaped) orbital path around the Sun is more elongated than most other planets in the solar <span class=\"red\"> system.</span></p>\n",
       "</li>\n",
       "<li>\n",
       "<h5>On Mars the Sun appears about half the size as it does on Earth.</h5>\n",
       "<p>At the closest point to the Sun, the Martian southern hemisphere leans towards the Sun, causing a short, intensely hot summer, while the northern hemisphere endures a brief, cold winter: at its farthest point from the Sun, the Martian northern hemisphere leans towards the Sun, causing a long, mild summer, while the southern hemisphere endures a lengthy, cold winter.</p>\n",
       "</li>\n",
       "<li>\n",
       "<h5>Pieces of Mars have fallen to Earth.</h5>\n",
       "<p>Scientists have found tiny traces of Martian atmosphere within meteorites violently ejected from Mars, then orbiting the solar system amongst galactic debris for millions of years, before crash landing on Earth. This allowed scientists to begin studying Mars prior to launching space missions.</p>\n",
       "</li>\n",
       "<li>\n",
       "<h5>Mars takes its name from the Roman god of war.</h5>\n",
       "<p>The ancient Greeks called the planet Ares, after their god of war; the Romans then did likewise, associating the planet’s blood-red colour with Mars, their own god of war. Interestingly, other ancient cultures also focused on colour – to China’s astronomers it was ‘the fire star’, whilst Egyptian priests called on ‘Her Desher’, or ‘the red one’. The red colour Mars is known for is due to the rock and dust covering its surface being rich in iron.</p>\n",
       "</li>\n",
       "<li>\n",
       "<h5>There are signs of liquid water on Mars.</h5>\n",
       "<p>For years Mars has been known to have water in the form of ice. The first signs of trickling water are dark stripes or stains on crater wall and cliffs seen in satellite images. Due to Mars’ atmosphere this water would have to be salty to prevent it from freezing or vaporising.</p>\n",
       "</li>\n",
       "<li>\n",
       "<h5>One day Mars will have a ring.</h5>\n",
       "<p>In the next 20-40 million years Mars’ largest moon Phobos will be torn apart by gravitational forces leading to the creation of a ring that could last up to 100 million years.</p>\n",
       "</li>\n",
       "<li>\n",
       "<h5>Sunsets on Mars are blue.</h5>\n",
       "<p>During the martian day the sky is pinkish-red, this is the opposite of the Earth’s skies.</p>\n",
       "</li>\n",
       "</ul>\n",
       "<h3 class=\"mt-5\">Mars Diagrams</h3>\n",
       "<div class=\"diagram mt-4\">\n",
       "<img src=\"https://space-facts.com/wp-content/uploads/mars-size.png\" width=\"90%\"/>\n",
       "<p><span class=\"orange\"><b> Mars </b></span>size compared to <span class=\"purple\"><b> Earth </b></span> </p>\n",
       "<img src=\"https://space-facts.com/wp-content/uploads/mars-orbit.png\" width=\"90%\"/>\n",
       "<p class=\"mt-2\"><span class=\"orange\"><b> Mars </b></span> distance from the <span class=\"white\"><b> Sun </b></span> and orbital eccentricity</p>\n",
       "<table class=\"table\">\n",
       "<tbody>\n",
       "<tr>\n",
       "<th scope=\"row\"><b> Mars - Earth Comparison</b></th>\n",
       "<td><span class=\"orange\"><b> Mars</b></span></td>\n",
       "<td><span class=\"purple\"> <b>Earth </b></span> </td>\n",
       "</tr>\n",
       "<tr>\n",
       "<th scope=\"row\">Diameter:</th>\n",
       "<td><span class=\"orange\">6,779 km</span></td>\n",
       "<td><span class=\"purple\">12,742 km</span> </td>\n",
       "</tr>\n",
       "<tr>\n",
       "<th scope=\"row\">Mass:</th>\n",
       "<td><span class=\"orange\">6.39 × 10^23 kg </span></td>\n",
       "<td><span class=\"purple\">5.97 × 10^24 kg</span> </td>\n",
       "</tr>\n",
       "<tr>\n",
       "<th scope=\"row\">Moons:</th>\n",
       "<td><span class=\"orange\">2</span></td>\n",
       "<td><span class=\"purple\">1</span> </td>\n",
       "</tr>\n",
       "<tr>\n",
       "<th scope=\"row\">Distance from Sun:</th>\n",
       "<td><span class=\"orange\">227,943,824 km</span></td>\n",
       "<td><span class=\"purple\">149,598,262 km</span> </td>\n",
       "</tr>\n",
       "<tr>\n",
       "<th scope=\"row\">Length of Year:</th>\n",
       "<td><span class=\"orange\">687 Earth days</span></td>\n",
       "<td><span class=\"purple\">365.24 days</span> </td>\n",
       "</tr>\n",
       "<tr>\n",
       "<th scope=\"row\">Temperature:</th>\n",
       "<td><span class=\"orange\">-87 to -5 °C</span></td>\n",
       "<td><span class=\"purple\">\t-88 to 58°C</span> </td>\n",
       "</tr>\n",
       "</tbody>\n",
       "</table>\n",
       "</div>\n",
       "<h3 class=\"mt-5\">Mars Features</h3>\n",
       "<h4 class=\"mt-3\">Moons</h4>\n",
       "<p>Mars has two small moons, <span class=\"red\"> Phobos </span> and <span class=\"red\"> Deimos</span> . They were discovered in 1877 by astronomer Asaph Hall, who named them for the Latin terms “fear” and “panic”. These moons are thought to be captured asteroids and are among the smallest natural satellites in the solar system.</p>\n",
       "<h4>Olympus Mons</h4>\n",
       "<p>Mars has the largest volcano in the solar system – Olympus Mons. It measures some 600 kilometres across and rises nearly 27 kilometres above the surrounding terrain. It is a shield volcano built by the continuous action of flowing lava over millions and millions of years that began some 3 billion years ago.</p>\n",
       "<p>Olympus Mons is part of a complex of volcanoes that lie along a volcanic plateau called the Tharsis Bulge. This entire region lies over a hotspot, a place in the planet’s crust that allows magma from deep inside to flow out to the surface.</p>\n",
       "<h4>Valles Marineris</h4>\n",
       "<p>The Valles Marineris is an extensive canyon system on the Mars equator. It is 4,200 kilometres long and, in places, is 7 kilometres deep. On Earth, it would span the entire North American continent and beyond.</p>\n",
       "<p>Mars has has a very primitive form of plate tectonics, and the action of two plates past each other began splitting the surface some 3.5 billion years ago. That set the stage for the formation of the Valles Marineris.</p>\n",
       "<h5>RELATED SPACE FACTS:</h5>\n",
       "<div class=\"col-md-12\">\n",
       "<div class=\"row\">\n",
       "<div class=\"col-md-4\" style=\"padding: 6px;\">\n",
       "<img class=\"img-fluid\" src=\"https://i1.wp.com/space-facts.com/wp-content/uploads/terrestrial-planet-orbits.png?resize=350%2C200&amp;ssl=1\" style=\"padding: 0px;\"/>\n",
       "<p><span class=\"red\"> Terrestrial Planet Facts </span></p>\n",
       "</div>\n",
       "<div class=\"col-md-4\" style=\"padding: 6px;\">\n",
       "<img class=\"img-fluid\" src=\"https://i1.wp.com/space-facts.com/wp-content/uploads/earth.png?resize=350%2C200&amp;ssl=1\" style=\"padding: 0px;\"/>\n",
       "<p><span class=\"red\">Earth Earth Facts</span> </p>\n",
       "</div>\n",
       "<div class=\"col-md-4\" style=\"padding: 6px;\">\n",
       "<img class=\"img-fluid\" src=\"https://i0.wp.com/space-facts.com/wp-content/uploads/asteroid-vesta.png?resize=350%2C200&amp;ssl=1\" style=\"padding: 0px;\"/>\n",
       "<p><span class=\"red\">Asteroid Facts</span></p>\n",
       "</div>\n",
       "</div>\n",
       "</div>\n",
       "</div>\n",
       "</div>\n",
       "<div class=\"col-md-4\">\n",
       "<div class=\"sidebar\">\n",
       "<h5>MARS PLANET PROFILE</h5>\n",
       "<table class=\"table table-striped\">\n",
       "<tbody>\n",
       "<tr>\n",
       "<th scope=\"row\">Equatorial Diameter:</th>\n",
       "<td>6,792 km</td>\n",
       "</tr>\n",
       "<tr>\n",
       "<th scope=\"row\">Polar Diameter:</th>\n",
       "<td>6,752 km</td>\n",
       "</tr>\n",
       "<tr>\n",
       "<th scope=\"row\">Mass:</th>\n",
       "<td>\t6.39 × 10^23 kg (0.11 Earths)</td>\n",
       "</tr>\n",
       "<tr>\n",
       "<th scope=\"row\">Moons:</th>\n",
       "<td>\t2 ( <span class=\"red\">Phobos </span> &amp; <span class=\"red\"> Deimos </span>)</td>\n",
       "</tr>\n",
       "<tr>\n",
       "<th scope=\"row\">Orbit Distance:</th>\n",
       "<td>\t227,943,824 km (1.38 AU)</td>\n",
       "</tr>\n",
       "<tr>\n",
       "<th scope=\"row\">Orbit Period:</th>\n",
       "<td>\t687 days (1.9 years)</td>\n",
       "</tr>\n",
       "<tr>\n",
       "<th scope=\"row\">Surface Temperature:</th>\n",
       "<td>\t-87 to -5 °C</td>\n",
       "</tr>\n",
       "<tr>\n",
       "<th scope=\"row\">First Record:</th>\n",
       "<td>\t2nd millennium BC</td>\n",
       "</tr>\n",
       "<tr>\n",
       "<th scope=\"row\">Recorded By:</th>\n",
       "<td>\tEgyptian astronomers</td>\n",
       "</tr>\n",
       "</tbody>\n",
       "</table>\n",
       "<h5 class=\"mt-5\">PLANETS</h5>\n",
       "<div class=\"col-md-12 mt-3\">\n",
       "<div class=\"row\">\n",
       "<div class=\"col-md-3\">\n",
       "<img class=\"img-fluid mt-2\" src=\"https://space-facts.com/wp-content/uploads/mercury-50x50.png\"/>\n",
       "</div>\n",
       "<div class=\"col-md-9\">\n",
       "<p class=\"mt-2\"><span class=\"red\">Mercury </span> </p>\n",
       "</div>\n",
       "</div>\n",
       "<div class=\"row\">\n",
       "<div class=\"col-md-3\">\n",
       "<img class=\"img-fluid mt-4\" src=\"https://space-facts.com/wp-content/uploads/venus-50x50.png\"/>\n",
       "</div>\n",
       "<div class=\"col-md-9\">\n",
       "<p class=\"mt-4\"><span class=\"red\">Venus </span> </p>\n",
       "</div>\n",
       "</div>\n",
       "<div class=\"row\">\n",
       "<div class=\"col-md-3\">\n",
       "<img class=\"img-fluid mt-4\" src=\"https://space-facts.com/wp-content/uploads/earth-50x50.png\"/>\n",
       "</div>\n",
       "<div class=\"col-md-9\">\n",
       "<p class=\"mt-4\"><span class=\"red\">Earth</span> </p>\n",
       "</div>\n",
       "</div>\n",
       "<div class=\"row\">\n",
       "<div class=\"col-md-3\">\n",
       "<img class=\"img-fluid mt-4\" src=\"https://space-facts.com/wp-content/uploads/mars-50x50.jpg\"/>\n",
       "</div>\n",
       "<div class=\"col-md-9\">\n",
       "<p class=\"mt-4\"><span class=\"red\">Mars </span> </p>\n",
       "</div>\n",
       "</div>\n",
       "<div class=\"row\">\n",
       "<div class=\"col-md-3\">\n",
       "<img class=\"img-fluid mt-4\" src=\"https://space-facts.com/wp-content/uploads/jupiter-50x50.png\"/>\n",
       "</div>\n",
       "<div class=\"col-md-9\">\n",
       "<p class=\"mt-4\"><span class=\"red\">Jupiter</span> </p>\n",
       "</div>\n",
       "</div>\n",
       "<div class=\"row\">\n",
       "<div class=\"col-md-3\">\n",
       "<img class=\"img-fluid mt-4\" src=\"https://space-facts.com/wp-content/uploads/saturn-50x50.png\"/>\n",
       "</div>\n",
       "<div class=\"col-md-9\">\n",
       "<p class=\"mt-4\"><span class=\"red\">Saturn</span> </p>\n",
       "</div>\n",
       "</div>\n",
       "<div class=\"row\">\n",
       "<div class=\"col-md-3\">\n",
       "<img class=\"img-fluid mt-4\" src=\"https://space-facts.com/wp-content/uploads/uranus-50x50.jpg\"/>\n",
       "</div>\n",
       "<div class=\"col-md-9\">\n",
       "<p class=\"mt-4\"><span class=\"red\">Saturn</span> </p>\n",
       "</div>\n",
       "</div>\n",
       "<div class=\"row\">\n",
       "<div class=\"col-md-3\">\n",
       "<img class=\"img-fluid mt-4\" src=\"https://space-facts.com/wp-content/uploads/neptune-50x50.png\"/>\n",
       "</div>\n",
       "<div class=\"col-md-9\">\n",
       "<p class=\"mt-4\"><span class=\"red\">Neptune</span> </p>\n",
       "</div>\n",
       "</div>\n",
       "</div>\n",
       "</div>\n",
       "</div>\n",
       "</div>\n",
       "</div>\n",
       "</div>\n",
       "<div class=\"footer\">\n",
       "<div class=\"container\">\n",
       "<p class=\"right\">\n",
       "</p><ul>\n",
       "<li>Blog</li>\n",
       "<li>About</li>\n",
       "<li>Contact</li>\n",
       "<li>Privacy Policy</li>\n",
       "</ul>\n",
       "<p></p>\n",
       "</div>\n",
       "</div>\n",
       "<script src=\"https://code.jquery.com/jquery-3.2.1.slim.min.js\"></script>\n",
       "<script src=\"https://cdnjs.cloudflare.com/ajax/libs/popper.js/1.12.9/umd/popper.min.js\"></script>\n",
       "<script src=\"https://maxcdn.bootstrapcdn.com/bootstrap/4.0.0/js/bootstrap.min.js\"></script>\n",
       "</body></html>"
      ]
     },
     "execution_count": 13,
     "metadata": {},
     "output_type": "execute_result"
    }
   ],
   "source": [
    "soup"
   ]
  },
  {
   "cell_type": "code",
   "execution_count": 14,
   "id": "e1c012ec",
   "metadata": {},
   "outputs": [
    {
     "data": {
      "text/plain": [
       "[                         0                1                2\n",
       " 0  Mars - Earth Comparison             Mars            Earth\n",
       " 1                Diameter:         6,779 km        12,742 km\n",
       " 2                    Mass:  6.39 × 10^23 kg  5.97 × 10^24 kg\n",
       " 3                   Moons:                2                1\n",
       " 4       Distance from Sun:   227,943,824 km   149,598,262 km\n",
       " 5          Length of Year:   687 Earth days      365.24 days\n",
       " 6             Temperature:     -87 to -5 °C      -88 to 58°C,\n",
       "                       0                              1\n",
       " 0  Equatorial Diameter:                       6,792 km\n",
       " 1       Polar Diameter:                       6,752 km\n",
       " 2                 Mass:  6.39 × 10^23 kg (0.11 Earths)\n",
       " 3                Moons:          2 ( Phobos & Deimos )\n",
       " 4       Orbit Distance:       227,943,824 km (1.38 AU)\n",
       " 5         Orbit Period:           687 days (1.9 years)\n",
       " 6  Surface Temperature:                   -87 to -5 °C\n",
       " 7         First Record:              2nd millennium BC\n",
       " 8          Recorded By:           Egyptian astronomers]"
      ]
     },
     "execution_count": 14,
     "metadata": {},
     "output_type": "execute_result"
    }
   ],
   "source": [
    "tables = pd.read_html(url)\n",
    "tables"
   ]
  },
  {
   "cell_type": "code",
   "execution_count": 15,
   "id": "6b83da93",
   "metadata": {},
   "outputs": [
    {
     "data": {
      "text/html": [
       "<div>\n",
       "<style scoped>\n",
       "    .dataframe tbody tr th:only-of-type {\n",
       "        vertical-align: middle;\n",
       "    }\n",
       "\n",
       "    .dataframe tbody tr th {\n",
       "        vertical-align: top;\n",
       "    }\n",
       "\n",
       "    .dataframe thead th {\n",
       "        text-align: right;\n",
       "    }\n",
       "</style>\n",
       "<table border=\"1\" class=\"dataframe\">\n",
       "  <thead>\n",
       "    <tr style=\"text-align: right;\">\n",
       "      <th></th>\n",
       "      <th>Mars</th>\n",
       "      <th>Earth</th>\n",
       "    </tr>\n",
       "  </thead>\n",
       "  <tbody>\n",
       "    <tr>\n",
       "      <th>Diameter:</th>\n",
       "      <td>6,779 km</td>\n",
       "      <td>12,742 km</td>\n",
       "    </tr>\n",
       "    <tr>\n",
       "      <th>Mass:</th>\n",
       "      <td>6.39 × 10^23 kg</td>\n",
       "      <td>5.97 × 10^24 kg</td>\n",
       "    </tr>\n",
       "    <tr>\n",
       "      <th>Moons:</th>\n",
       "      <td>2</td>\n",
       "      <td>1</td>\n",
       "    </tr>\n",
       "    <tr>\n",
       "      <th>Distance from Sun:</th>\n",
       "      <td>227,943,824 km</td>\n",
       "      <td>149,598,262 km</td>\n",
       "    </tr>\n",
       "    <tr>\n",
       "      <th>Length of Year:</th>\n",
       "      <td>687 Earth days</td>\n",
       "      <td>365.24 days</td>\n",
       "    </tr>\n",
       "    <tr>\n",
       "      <th>Temperature:</th>\n",
       "      <td>-87 to -5 °C</td>\n",
       "      <td>-88 to 58°C</td>\n",
       "    </tr>\n",
       "  </tbody>\n",
       "</table>\n",
       "</div>"
      ],
      "text/plain": [
       "                               Mars            Earth\n",
       "Diameter:                  6,779 km        12,742 km\n",
       "Mass:               6.39 × 10^23 kg  5.97 × 10^24 kg\n",
       "Moons:                            2                1\n",
       "Distance from Sun:   227,943,824 km   149,598,262 km\n",
       "Length of Year:      687 Earth days      365.24 days\n",
       "Temperature:           -87 to -5 °C      -88 to 58°C"
      ]
     },
     "execution_count": 15,
     "metadata": {},
     "output_type": "execute_result"
    }
   ],
   "source": [
    "columns = tables[0].loc[0, :].to_list()\n",
    "columns[0] =  \"Description\"\n",
    "comparison_df = pd.DataFrame(tables[0].loc[1:, :])\n",
    "comparison_df.columns = columns\n",
    "comparison_df.set_index(\"Description\", inplace=True)\n",
    "comparison_df.rename_axis(None, axis=0, inplace=True)\n",
    "comparison_df"
   ]
  },
  {
   "cell_type": "code",
   "execution_count": 16,
   "id": "05b18761",
   "metadata": {},
   "outputs": [
    {
     "data": {
      "text/html": [
       "<div>\n",
       "<style scoped>\n",
       "    .dataframe tbody tr th:only-of-type {\n",
       "        vertical-align: middle;\n",
       "    }\n",
       "\n",
       "    .dataframe tbody tr th {\n",
       "        vertical-align: top;\n",
       "    }\n",
       "\n",
       "    .dataframe thead th {\n",
       "        text-align: right;\n",
       "    }\n",
       "</style>\n",
       "<table border=\"1\" class=\"dataframe\">\n",
       "  <thead>\n",
       "    <tr style=\"text-align: right;\">\n",
       "      <th></th>\n",
       "      <th>Description</th>\n",
       "      <th>Information</th>\n",
       "    </tr>\n",
       "  </thead>\n",
       "  <tbody>\n",
       "    <tr>\n",
       "      <th>0</th>\n",
       "      <td>Equatorial Diameter:</td>\n",
       "      <td>6,792 km</td>\n",
       "    </tr>\n",
       "    <tr>\n",
       "      <th>1</th>\n",
       "      <td>Polar Diameter:</td>\n",
       "      <td>6,752 km</td>\n",
       "    </tr>\n",
       "    <tr>\n",
       "      <th>2</th>\n",
       "      <td>Mass:</td>\n",
       "      <td>6.39 × 10^23 kg (0.11 Earths)</td>\n",
       "    </tr>\n",
       "    <tr>\n",
       "      <th>3</th>\n",
       "      <td>Moons:</td>\n",
       "      <td>2 ( Phobos &amp; Deimos )</td>\n",
       "    </tr>\n",
       "    <tr>\n",
       "      <th>4</th>\n",
       "      <td>Orbit Distance:</td>\n",
       "      <td>227,943,824 km (1.38 AU)</td>\n",
       "    </tr>\n",
       "    <tr>\n",
       "      <th>5</th>\n",
       "      <td>Orbit Period:</td>\n",
       "      <td>687 days (1.9 years)</td>\n",
       "    </tr>\n",
       "    <tr>\n",
       "      <th>6</th>\n",
       "      <td>Surface Temperature:</td>\n",
       "      <td>-87 to -5 °C</td>\n",
       "    </tr>\n",
       "    <tr>\n",
       "      <th>7</th>\n",
       "      <td>First Record:</td>\n",
       "      <td>2nd millennium BC</td>\n",
       "    </tr>\n",
       "    <tr>\n",
       "      <th>8</th>\n",
       "      <td>Recorded By:</td>\n",
       "      <td>Egyptian astronomers</td>\n",
       "    </tr>\n",
       "  </tbody>\n",
       "</table>\n",
       "</div>"
      ],
      "text/plain": [
       "            Description                    Information\n",
       "0  Equatorial Diameter:                       6,792 km\n",
       "1       Polar Diameter:                       6,752 km\n",
       "2                 Mass:  6.39 × 10^23 kg (0.11 Earths)\n",
       "3                Moons:          2 ( Phobos & Deimos )\n",
       "4       Orbit Distance:       227,943,824 km (1.38 AU)\n",
       "5         Orbit Period:           687 days (1.9 years)\n",
       "6  Surface Temperature:                   -87 to -5 °C\n",
       "7         First Record:              2nd millennium BC\n",
       "8          Recorded By:           Egyptian astronomers"
      ]
     },
     "execution_count": 16,
     "metadata": {},
     "output_type": "execute_result"
    }
   ],
   "source": [
    "tables[1].columns=[\"Description\", \"Information\"]\n",
    "tables[1]"
   ]
  },
  {
   "cell_type": "code",
   "execution_count": 17,
   "id": "98389626",
   "metadata": {},
   "outputs": [
    {
     "data": {
      "text/plain": [
       "'<table border=\"1\" class=\"dataframe\">\\n  <thead>\\n    <tr style=\"text-align: right;\">\\n      <th></th>\\n      <th>Mars</th>\\n      <th>Earth</th>\\n    </tr>\\n  </thead>\\n  <tbody>\\n    <tr>\\n      <th>Diameter:</th>\\n      <td>6,779 km</td>\\n      <td>12,742 km</td>\\n    </tr>\\n    <tr>\\n      <th>Mass:</th>\\n      <td>6.39 × 10^23 kg</td>\\n      <td>5.97 × 10^24 kg</td>\\n    </tr>\\n    <tr>\\n      <th>Moons:</th>\\n      <td>2</td>\\n      <td>1</td>\\n    </tr>\\n    <tr>\\n      <th>Distance from Sun:</th>\\n      <td>227,943,824 km</td>\\n      <td>149,598,262 km</td>\\n    </tr>\\n    <tr>\\n      <th>Length of Year:</th>\\n      <td>687 Earth days</td>\\n      <td>365.24 days</td>\\n    </tr>\\n    <tr>\\n      <th>Temperature:</th>\\n      <td>-87 to -5 °C</td>\\n      <td>-88 to 58°C</td>\\n    </tr>\\n  </tbody>\\n</table>'"
      ]
     },
     "execution_count": 17,
     "metadata": {},
     "output_type": "execute_result"
    }
   ],
   "source": [
    "stats = comparison_df.to_html()\n",
    "# print(bs(stats, \"html.parser\").prettify())\n",
    "stats\n"
   ]
  },
  {
   "cell_type": "code",
   "execution_count": 18,
   "id": "43119c35",
   "metadata": {},
   "outputs": [
    {
     "data": {
      "text/html": [
       "<div>\n",
       "<style scoped>\n",
       "    .dataframe tbody tr th:only-of-type {\n",
       "        vertical-align: middle;\n",
       "    }\n",
       "\n",
       "    .dataframe tbody tr th {\n",
       "        vertical-align: top;\n",
       "    }\n",
       "\n",
       "    .dataframe thead th {\n",
       "        text-align: right;\n",
       "    }\n",
       "</style>\n",
       "<table border=\"1\" class=\"dataframe\">\n",
       "  <thead>\n",
       "    <tr style=\"text-align: right;\">\n",
       "      <th></th>\n",
       "      <th>Mars</th>\n",
       "      <th>Earth</th>\n",
       "    </tr>\n",
       "  </thead>\n",
       "  <tbody>\n",
       "    <tr>\n",
       "      <th>Diameter:</th>\n",
       "      <td>6,779 km</td>\n",
       "      <td>12,742 km</td>\n",
       "    </tr>\n",
       "    <tr>\n",
       "      <th>Mass:</th>\n",
       "      <td>6.39 × 10^23 kg</td>\n",
       "      <td>5.97 × 10^24 kg</td>\n",
       "    </tr>\n",
       "    <tr>\n",
       "      <th>Moons:</th>\n",
       "      <td>2</td>\n",
       "      <td>1</td>\n",
       "    </tr>\n",
       "    <tr>\n",
       "      <th>Distance from Sun:</th>\n",
       "      <td>227,943,824 km</td>\n",
       "      <td>149,598,262 km</td>\n",
       "    </tr>\n",
       "    <tr>\n",
       "      <th>Length of Year:</th>\n",
       "      <td>687 Earth days</td>\n",
       "      <td>365.24 days</td>\n",
       "    </tr>\n",
       "    <tr>\n",
       "      <th>Temperature:</th>\n",
       "      <td>-87 to -5 °C</td>\n",
       "      <td>-88 to 58°C</td>\n",
       "    </tr>\n",
       "  </tbody>\n",
       "</table>\n",
       "</div>"
      ],
      "text/plain": [
       "                               Mars            Earth\n",
       "Diameter:                  6,779 km        12,742 km\n",
       "Mass:               6.39 × 10^23 kg  5.97 × 10^24 kg\n",
       "Moons:                            2                1\n",
       "Distance from Sun:   227,943,824 km   149,598,262 km\n",
       "Length of Year:      687 Earth days      365.24 days\n",
       "Temperature:           -87 to -5 °C      -88 to 58°C"
      ]
     },
     "execution_count": 18,
     "metadata": {},
     "output_type": "execute_result"
    }
   ],
   "source": [
    "comparison_df"
   ]
  },
  {
   "cell_type": "markdown",
   "id": "a56c0a9b",
   "metadata": {},
   "source": [
    "## Astrogeology USGS\n",
    "- URL: https://astrogeology.usgs.gov/search/results?q=hemisphere+enhanced&k1=target&v1=Mars\n",
    "- get images of the 4 hemispheres of Mars"
   ]
  },
  {
   "cell_type": "code",
   "execution_count": 19,
   "id": "7535e2cb",
   "metadata": {},
   "outputs": [],
   "source": [
    "url = \"https://astrogeology.usgs.gov\" \n",
    "search = \"/search/results?q=hemisphere+enhanced&k1=target&v1=Mars\""
   ]
  },
  {
   "cell_type": "code",
   "execution_count": 20,
   "id": "74458097",
   "metadata": {},
   "outputs": [],
   "source": [
    "browser.visit(url+search)\n",
    "soup = bs(browser.html, \"html.parser\")"
   ]
  },
  {
   "cell_type": "code",
   "execution_count": 21,
   "id": "c211912a",
   "metadata": {},
   "outputs": [
    {
     "name": "stdout",
     "output_type": "stream",
     "text": [
      "<div class=\"item\">\n",
      " <a class=\"itemLink product-item\" href=\"/search/map/Mars/Viking/cerberus_enhanced\">\n",
      "  <img alt=\"Cerberus Hemisphere Enhanced thumbnail\" class=\"thumb\" src=\"/cache/images/39d3266553462198bd2fbc4d18fbed17_cerberus_enhanced.tif_thumb.png\"/>\n",
      " </a>\n",
      " <div class=\"description\">\n",
      "  <a class=\"itemLink product-item\" href=\"/search/map/Mars/Viking/cerberus_enhanced\">\n",
      "   <h3>\n",
      "    Cerberus Hemisphere Enhanced\n",
      "   </h3>\n",
      "  </a>\n",
      "  <span class=\"subtitle\" style=\"float:left\">\n",
      "   image/tiff 21 MB\n",
      "  </span>\n",
      "  <span class=\"pubDate\" style=\"float:right\">\n",
      "  </span>\n",
      "  <br/>\n",
      "  <p>\n",
      "   Mosaic of the Cerberus hemisphere of Mars projected into point perspective, a view similar to that which one would see from a spacecraft. This mosaic is composed of 104 Viking Orbiter images acquired…\n",
      "  </p>\n",
      " </div>\n",
      " <!-- end description -->\n",
      "</div>\n",
      "\n"
     ]
    }
   ],
   "source": [
    "div = soup.find_all('div', attrs={\"class\":\"item\"})\n",
    "print(div[0].prettify())"
   ]
  },
  {
   "cell_type": "code",
   "execution_count": 22,
   "id": "835231fc",
   "metadata": {},
   "outputs": [
    {
     "data": {
      "text/plain": [
       "'Cerberus Hemisphere Enhanced'"
      ]
     },
     "execution_count": 22,
     "metadata": {},
     "output_type": "execute_result"
    }
   ],
   "source": [
    "title = div[0].find('h3').text\n",
    "title"
   ]
  },
  {
   "cell_type": "code",
   "execution_count": 23,
   "id": "1893c6fe",
   "metadata": {},
   "outputs": [],
   "source": [
    "img_page =div[0].find(\"h3\").find_parent().get(\"href\")\n"
   ]
  },
  {
   "cell_type": "code",
   "execution_count": 24,
   "id": "9d9591f6",
   "metadata": {},
   "outputs": [
    {
     "data": {
      "text/plain": [
       "['/search/map/Mars/Viking/cerberus_enhanced',\n",
       " '/search/map/Mars/Viking/schiaparelli_enhanced',\n",
       " '/search/map/Mars/Viking/syrtis_major_enhanced',\n",
       " '/search/map/Mars/Viking/valles_marineris_enhanced']"
      ]
     },
     "execution_count": 24,
     "metadata": {},
     "output_type": "execute_result"
    }
   ],
   "source": [
    "face = [item.find(\"h3\").find_parent().get(\"href\") for item in div]\n",
    "face"
   ]
  },
  {
   "cell_type": "code",
   "execution_count": 25,
   "id": "e9671a44",
   "metadata": {},
   "outputs": [
    {
     "ename": "AttributeError",
     "evalue": "'NoneType' object has no attribute 'get'",
     "output_type": "error",
     "traceback": [
      "\u001b[1;31m---------------------------------------------------------------------------\u001b[0m",
      "\u001b[1;31mAttributeError\u001b[0m                            Traceback (most recent call last)",
      "\u001b[1;32mc:\\Users\\Nick\\Desktop\\Bootcamp Folder\\Analysis Projects\\Mission_to_Mars\\mission_to_mars_challenge.ipynb Cell 31\u001b[0m in \u001b[0;36m<cell line: 1>\u001b[1;34m()\u001b[0m\n\u001b[1;32m----> <a href='vscode-notebook-cell:/c%3A/Users/Nick/Desktop/Bootcamp%20Folder/Analysis%20Projects/Mission_to_Mars/mission_to_mars_challenge.ipynb#X43sZmlsZQ%3D%3D?line=0'>1</a>\u001b[0m sm_img \u001b[39m=\u001b[39m [item\u001b[39m.\u001b[39mfind(\u001b[39m\"\u001b[39m\u001b[39ma\u001b[39m\u001b[39m\"\u001b[39m, attrs\u001b[39m=\u001b[39m{\u001b[39m\"\u001b[39m\u001b[39mclass\u001b[39m\u001b[39m\"\u001b[39m:\u001b[39m\"\u001b[39m\u001b[39mthumb\u001b[39m\u001b[39m\"\u001b[39m})\u001b[39m.\u001b[39mget(\u001b[39m\"\u001b[39m\u001b[39mhref\u001b[39m\u001b[39m\"\u001b[39m)  \u001b[39mfor\u001b[39;00m item \u001b[39min\u001b[39;00m div]\n",
      "\u001b[1;32mc:\\Users\\Nick\\Desktop\\Bootcamp Folder\\Analysis Projects\\Mission_to_Mars\\mission_to_mars_challenge.ipynb Cell 31\u001b[0m in \u001b[0;36m<listcomp>\u001b[1;34m(.0)\u001b[0m\n\u001b[1;32m----> <a href='vscode-notebook-cell:/c%3A/Users/Nick/Desktop/Bootcamp%20Folder/Analysis%20Projects/Mission_to_Mars/mission_to_mars_challenge.ipynb#X43sZmlsZQ%3D%3D?line=0'>1</a>\u001b[0m sm_img \u001b[39m=\u001b[39m [item\u001b[39m.\u001b[39;49mfind(\u001b[39m\"\u001b[39;49m\u001b[39ma\u001b[39;49m\u001b[39m\"\u001b[39;49m, attrs\u001b[39m=\u001b[39;49m{\u001b[39m\"\u001b[39;49m\u001b[39mclass\u001b[39;49m\u001b[39m\"\u001b[39;49m:\u001b[39m\"\u001b[39;49m\u001b[39mthumb\u001b[39;49m\u001b[39m\"\u001b[39;49m})\u001b[39m.\u001b[39;49mget(\u001b[39m\"\u001b[39m\u001b[39mhref\u001b[39m\u001b[39m\"\u001b[39m)  \u001b[39mfor\u001b[39;00m item \u001b[39min\u001b[39;00m div]\n",
      "\u001b[1;31mAttributeError\u001b[0m: 'NoneType' object has no attribute 'get'"
     ]
    }
   ],
   "source": [
    "sm_img = [item.find(\"a\", attrs={\"class\":\"thumb\"}).get(\"href\")  for item in div]"
   ]
  },
  {
   "cell_type": "code",
   "execution_count": null,
   "id": "6d7291b4",
   "metadata": {},
   "outputs": [],
   "source": [
    "browser.visit(url+face[0][\"next_page\"])\n"
   ]
  },
  {
   "cell_type": "code",
   "execution_count": null,
   "id": "16e9ca72",
   "metadata": {},
   "outputs": [],
   "source": [
    "soup = bs(browser.html, \"html.parser\")\n"
   ]
  },
  {
   "cell_type": "code",
   "execution_count": null,
   "id": "cd207a86",
   "metadata": {},
   "outputs": [],
   "source": [
    "div = soup.find(\"div\", attrs={\"class\":\"content\"})\n"
   ]
  },
  {
   "cell_type": "code",
   "execution_count": null,
   "id": "732ce7d7",
   "metadata": {},
   "outputs": [],
   "source": [
    "div = soup.find(\"div\", attrs={\"class\":\"downloads\"})\n",
    "img = div.find_all(\"a\")[1].get(\"href\")\n",
    "img"
   ]
  },
  {
   "cell_type": "code",
   "execution_count": null,
   "id": "001646bd",
   "metadata": {},
   "outputs": [],
   "source": [
    "mars = list()\n",
    "for item in face:\n",
    "    d = dict()\n",
    "    browser.visit(url+item)\n",
    "    time.sleep(2)  ## \n",
    "    soup = bs(browser.html, \"html.parser\")\n",
    "    div = soup.find(\"div\", attrs={\"class\":\"downloads\"})\n",
    "    img = div.find_all(\"a\")[1].get(\"href\")\n",
    "    div = soup.find(\"div\", attrs={\"class\":\"content\"})\n",
    "    d[\"title\"] = div.find(\"h2\", attrs={\"class\":\"title\"}).text\n",
    "    d[\"hemisphere_img\"] = img\n",
    "    mars.append(d)"
   ]
  },
  {
   "cell_type": "code",
   "execution_count": null,
   "id": "2e999666",
   "metadata": {},
   "outputs": [],
   "source": [
    "mars"
   ]
  },
  {
   "cell_type": "code",
   "execution_count": null,
   "id": "4d4e571e",
   "metadata": {},
   "outputs": [],
   "source": []
  },
  {
   "cell_type": "code",
   "execution_count": null,
   "id": "53b0ccea",
   "metadata": {},
   "outputs": [],
   "source": []
  }
 ],
 "metadata": {
  "kernelspec": {
   "display_name": "Python 3.9.12 ('base')",
   "language": "python",
   "name": "python3"
  },
  "language_info": {
   "codemirror_mode": {
    "name": "ipython",
    "version": 3
   },
   "file_extension": ".py",
   "mimetype": "text/x-python",
   "name": "python",
   "nbconvert_exporter": "python",
   "pygments_lexer": "ipython3",
   "version": "3.9.12"
  },
  "vscode": {
   "interpreter": {
    "hash": "a1f97534529af3f8636c23505335d887f90fca58ccd32a243de6b777cb5768e0"
   }
  }
 },
 "nbformat": 4,
 "nbformat_minor": 5
}
