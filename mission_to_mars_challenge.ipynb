{
 "cells": [
  {
   "cell_type": "code",
   "execution_count": 1,
   "id": "9bb883d2",
   "metadata": {},
   "outputs": [],
   "source": [
    "from splinter import Browser\n",
    "from bs4 import BeautifulSoup as bs\n",
    "from webdriver_manager.chrome import ChromeDriverManager as CDM\n",
    "from config import chromeDriver\n",
    "import pandas as pd\n",
    "import time\n"
   ]
  },
  {
   "cell_type": "markdown",
   "id": "77523019",
   "metadata": {},
   "source": [
    "## Red Planet Science\n",
    "- URL: https://redplanetscience.com/\n",
    "- Pull recent news stories about Mars"
   ]
  },
  {
   "cell_type": "code",
   "execution_count": 2,
   "id": "4cc622ce",
   "metadata": {},
   "outputs": [],
   "source": [
    "url = \"https://redplanetscience.com\""
   ]
  },
  {
   "cell_type": "code",
   "execution_count": 3,
   "id": "2b4ecbc6",
   "metadata": {},
   "outputs": [],
   "source": [
    "browser = Browser(\"chrome\", executable_path=chromeDriver, headless=False)"
   ]
  },
  {
   "cell_type": "code",
   "execution_count": 4,
   "id": "dc5a376f",
   "metadata": {},
   "outputs": [
    {
     "data": {
      "text/plain": [
       "True"
      ]
     },
     "execution_count": 4,
     "metadata": {},
     "output_type": "execute_result"
    }
   ],
   "source": [
    "browser.visit(url)\n",
    "browser.is_element_present_by_css(\"div.list_text\", wait_time=3)"
   ]
  },
  {
   "cell_type": "code",
   "execution_count": 5,
   "id": "2662f4f5",
   "metadata": {},
   "outputs": [],
   "source": [
    "html = browser.html\n",
    "soup = bs(html, \"html.parser\")"
   ]
  },
  {
   "cell_type": "markdown",
   "id": "4b7d63cb",
   "metadata": {},
   "source": [
    "Website Content Article Structure:\n",
    "- tag: div class=\"row\"\n",
    "  - tag: div class = \"list_text\"\n",
    "    - tag: div class = \"list_date\"\n",
    "    - tag: div class = \"content_title\"\n",
    "    - tag: div class = \"article_teaser_body\"\n",
    "\n",
    "\n"
   ]
  },
  {
   "cell_type": "code",
   "execution_count": 6,
   "id": "0053e5fe",
   "metadata": {},
   "outputs": [
    {
     "data": {
      "text/plain": [
       "{'title': \"NASA's Mars 2020 Comes Full Circle\",\n",
       " 'date': 'August 17, 2022',\n",
       " 'summary': \"Aiming to pinpoint the Martian vehicle's center of gravity, engineers took NASA's 2,300-pound Mars 2020 rover for a spin in the clean room at JPL. \"}"
      ]
     },
     "execution_count": 6,
     "metadata": {},
     "output_type": "execute_result"
    }
   ],
   "source": [
    "article = soup.find(\"div\", attrs={\"class\":\"row\"})\n",
    "news_title = article.find('div', attrs={\"class\":\"content_title\"}).get_text()\n",
    "news_date = article.find(\"div\", attrs={\"class\":\"list_date\"}).get_text()\n",
    "news_summary = article.find(\"div\", attrs={\"class\":\"article_teaser_body\"}).get_text()\n",
    "{\"title\" : news_title, \"date\" : news_date, \"summary\" : news_summary}"
   ]
  },
  {
   "cell_type": "markdown",
   "id": "5a8233cf",
   "metadata": {},
   "source": [
    "## Space Images\n",
    "- URL https://spaceimages-mars.com/\n",
    "- Pull recent images of Mars"
   ]
  },
  {
   "cell_type": "code",
   "execution_count": 13,
   "id": "aadf1ced",
   "metadata": {},
   "outputs": [],
   "source": [
    "url = \"https://spaceimages-mars.com/\"\n",
    "browser.visit(url)\n"
   ]
  },
  {
   "cell_type": "code",
   "execution_count": 14,
   "id": "81aa32e2",
   "metadata": {},
   "outputs": [],
   "source": [
    "html = browser.html\n",
    "soup = bs(html, \"html.parser\")"
   ]
  },
  {
   "cell_type": "code",
   "execution_count": 15,
   "id": "6a366635",
   "metadata": {},
   "outputs": [],
   "source": [
    "browser.links.find_by_partial_text(\"FULL IMAGE\").click()"
   ]
  },
  {
   "cell_type": "code",
   "execution_count": null,
   "id": "3bca5b77",
   "metadata": {},
   "outputs": [],
   "source": []
  },
  {
   "cell_type": "code",
   "execution_count": 16,
   "id": "9be1d4f4",
   "metadata": {},
   "outputs": [
    {
     "data": {
      "text/plain": [
       "[<button aria-controls=\"navbarNav\" aria-expanded=\"false\" aria-label=\"Toggle navigation\" class=\"navbar-toggler\" data-target=\"#navbarNav\" data-toggle=\"collapse\" type=\"button\">\n",
       " <span class=\"navbar-toggler-icon\"></span>\n",
       " </button>,\n",
       " <button class=\"btn btn-outline-light\"> FULL IMAGE</button>]"
      ]
     },
     "execution_count": 16,
     "metadata": {},
     "output_type": "execute_result"
    }
   ],
   "source": [
    "\n",
    "soup.find_all(\"button\")"
   ]
  },
  {
   "cell_type": "code",
   "execution_count": 18,
   "id": "c0619c35",
   "metadata": {},
   "outputs": [
    {
     "ename": "AttributeError",
     "evalue": "'NoneType' object has no attribute 'get'",
     "output_type": "error",
     "traceback": [
      "\u001b[1;31m---------------------------------------------------------------------------\u001b[0m",
      "\u001b[1;31mAttributeError\u001b[0m                            Traceback (most recent call last)",
      "Input \u001b[1;32mIn [18]\u001b[0m, in \u001b[0;36m<cell line: 1>\u001b[1;34m()\u001b[0m\n\u001b[1;32m----> 1\u001b[0m image_url \u001b[38;5;241m=\u001b[39m \u001b[43msoup\u001b[49m\u001b[38;5;241;43m.\u001b[39;49m\u001b[43mfind\u001b[49m\u001b[43m(\u001b[49m\u001b[38;5;124;43m\"\u001b[39;49m\u001b[38;5;124;43mimg\u001b[39;49m\u001b[38;5;124;43m\"\u001b[39;49m\u001b[43m,\u001b[49m\u001b[43m \u001b[49m\u001b[43mattrs\u001b[49m\u001b[38;5;241;43m=\u001b[39;49m\u001b[43m{\u001b[49m\u001b[38;5;124;43m\"\u001b[39;49m\u001b[38;5;124;43mclass\u001b[39;49m\u001b[38;5;124;43m\"\u001b[39;49m\u001b[43m:\u001b[49m\u001b[38;5;124;43m\"\u001b[39;49m\u001b[38;5;124;43mfancybox-image\u001b[39;49m\u001b[38;5;124;43m\"\u001b[39;49m\u001b[43m}\u001b[49m\u001b[43m)\u001b[49m\u001b[38;5;241;43m.\u001b[39;49m\u001b[43mget\u001b[49m(\u001b[38;5;124m\"\u001b[39m\u001b[38;5;124msrc\u001b[39m\u001b[38;5;124m\"\u001b[39m)\n\u001b[0;32m      2\u001b[0m new_url \u001b[38;5;241m=\u001b[39m url\u001b[38;5;241m+\u001b[39mimage_url\n\u001b[0;32m      3\u001b[0m new_url\n",
      "\u001b[1;31mAttributeError\u001b[0m: 'NoneType' object has no attribute 'get'"
     ]
    }
   ],
   "source": [
    "image_url = soup.find(\"img\", attrs={\"class\":\"fancybox-image\"}).get(\"src\")\n",
    "new_url = url+image_url\n",
    "new_url"
   ]
  },
  {
   "cell_type": "markdown",
   "id": "032cc039",
   "metadata": {},
   "source": [
    "## Mars Facts\n",
    "- URL:  https://galaxyfacts-mars.com/\n",
    "- Pull statistical information for the web app"
   ]
  },
  {
   "cell_type": "code",
   "execution_count": null,
   "id": "38ce0d7a",
   "metadata": {},
   "outputs": [],
   "source": [
    "url = \"https://galaxyfacts-mars.com/\"\n",
    "browser.visit(url)"
   ]
  },
  {
   "cell_type": "code",
   "execution_count": null,
   "id": "ecc22ac7",
   "metadata": {},
   "outputs": [],
   "source": [
    "soup = bs(browser.html, \"html.parser\")"
   ]
  },
  {
   "cell_type": "code",
   "execution_count": null,
   "id": "464478bc",
   "metadata": {},
   "outputs": [],
   "source": [
    "soup"
   ]
  },
  {
   "cell_type": "code",
   "execution_count": null,
   "id": "e1c012ec",
   "metadata": {},
   "outputs": [],
   "source": [
    "tables = pd.read_html(url)\n",
    "tables"
   ]
  },
  {
   "cell_type": "code",
   "execution_count": null,
   "id": "6b83da93",
   "metadata": {},
   "outputs": [],
   "source": [
    "columns = tables[0].loc[0, :].to_list()\n",
    "columns[0] =  \"Description\"\n",
    "comparison_df = pd.DataFrame(tables[0].loc[1:, :])\n",
    "comparison_df.columns = columns\n",
    "comparison_df.set_index(\"Description\", inplace=True)\n",
    "comparison_df"
   ]
  },
  {
   "cell_type": "code",
   "execution_count": null,
   "id": "05b18761",
   "metadata": {},
   "outputs": [],
   "source": [
    "tables[1].columns=[\"Description\", \"Information\"]\n",
    "tables[1]"
   ]
  },
  {
   "cell_type": "code",
   "execution_count": null,
   "id": "98389626",
   "metadata": {},
   "outputs": [],
   "source": [
    "stats = comparison_df.to_html()\n",
    "# print(bs(stats, \"html.parser\").prettify())\n",
    "stats\n"
   ]
  },
  {
   "cell_type": "code",
   "execution_count": null,
   "id": "43119c35",
   "metadata": {},
   "outputs": [],
   "source": []
  },
  {
   "cell_type": "markdown",
   "id": "88350457",
   "metadata": {},
   "source": [
    "## Astrogeology USGS\n",
    "- URL: https://astrogeology.usgs.gov/search/results?q=hemisphere+enhanced&k1=target&v1=Mars\n",
    "- get images of the 4 hemispheres of Mars"
   ]
  },
  {
   "cell_type": "code",
   "execution_count": null,
   "id": "7535e2cb",
   "metadata": {},
   "outputs": [],
   "source": [
    "url = \"https://astrogeology.usgs.gov\" \n",
    "search = \"/search/results?q=hemisphere+enhanced&k1=target&v1=Mars\""
   ]
  },
  {
   "cell_type": "code",
   "execution_count": null,
   "id": "fb956057",
   "metadata": {},
   "outputs": [],
   "source": [
    "browser.visit(url+search)\n",
    "soup = bs(browser.html, \"html.parser\")"
   ]
  },
  {
   "cell_type": "code",
   "execution_count": null,
   "id": "6821a827",
   "metadata": {},
   "outputs": [],
   "source": [
    "div = soup.find_all('div', attrs={\"class\":\"item\"})\n",
    "print(div[0].prettify())"
   ]
  },
  {
   "cell_type": "code",
   "execution_count": null,
   "id": "653314c2",
   "metadata": {},
   "outputs": [],
   "source": [
    "title = div[0].find('h3').text\n",
    "title"
   ]
  },
  {
   "cell_type": "code",
   "execution_count": null,
   "id": "a9a54bb4",
   "metadata": {},
   "outputs": [],
   "source": [
    "img_page =div[0].find(\"h3\").find_parent().get(\"href\")\n"
   ]
  },
  {
   "cell_type": "code",
   "execution_count": null,
   "id": "aad285f1",
   "metadata": {},
   "outputs": [],
   "source": [
    "face = [item.find(\"h3\").find_parent().get(\"href\") for item in div]\n",
    "face"
   ]
  },
  {
   "cell_type": "code",
   "execution_count": null,
   "id": "4927bf7e",
   "metadata": {},
   "outputs": [],
   "source": [
    "sm_img = [item.find(\"a\", attrs={\"class\":\"thumb\"}).get(\"href\")  for item in div]"
   ]
  },
  {
   "cell_type": "code",
   "execution_count": null,
   "id": "6f422e30",
   "metadata": {},
   "outputs": [],
   "source": [
    "browser.visit(url+face[0][\"next_page\"])\n"
   ]
  },
  {
   "cell_type": "code",
   "execution_count": null,
   "id": "6ba34fa4",
   "metadata": {},
   "outputs": [],
   "source": [
    "soup = bs(browser.html, \"html.parser\")\n"
   ]
  },
  {
   "cell_type": "code",
   "execution_count": null,
   "id": "676b0d4e",
   "metadata": {},
   "outputs": [],
   "source": [
    "div = soup.find(\"div\", attrs={\"class\":\"content\"})\n"
   ]
  },
  {
   "cell_type": "code",
   "execution_count": null,
   "id": "bd574fbb",
   "metadata": {},
   "outputs": [],
   "source": [
    "div = soup.find(\"div\", attrs={\"class\":\"downloads\"})\n",
    "img = div.find_all(\"a\")[1].get(\"href\")\n",
    "img"
   ]
  },
  {
   "cell_type": "code",
   "execution_count": null,
   "id": "be725f37",
   "metadata": {},
   "outputs": [],
   "source": [
    "mars = list()\n",
    "for item in face:\n",
    "    d = dict()\n",
    "    browser.visit(url+item)\n",
    "    time.sleep(2)  ## \n",
    "    soup = bs(browser.html, \"html.parser\")\n",
    "    div = soup.find(\"div\", attrs={\"class\":\"downloads\"})\n",
    "    img = div.find_all(\"a\")[1].get(\"href\")\n",
    "    div = soup.find(\"div\", attrs={\"class\":\"content\"})\n",
    "    d[\"title\"] = div.find(\"h2\", attrs={\"class\":\"title\"}).text\n",
    "    d[\"hemisphere_img\"] = img\n",
    "    mars.append(d)"
   ]
  },
  {
   "cell_type": "code",
   "execution_count": null,
   "id": "5d13edb4",
   "metadata": {},
   "outputs": [],
   "source": [
    "mars"
   ]
  },
  {
   "cell_type": "code",
   "execution_count": null,
   "id": "1f4d3359",
   "metadata": {},
   "outputs": [],
   "source": []
  },
  {
   "cell_type": "code",
   "execution_count": null,
   "id": "165bd286",
   "metadata": {},
   "outputs": [],
   "source": []
  }
 ],
 "metadata": {
  "kernelspec": {
   "display_name": "Python 3 (ipykernel)",
   "language": "python",
   "name": "python3"
  },
  "language_info": {
   "codemirror_mode": {
    "name": "ipython",
    "version": 3
   },
   "file_extension": ".py",
   "mimetype": "text/x-python",
   "name": "python",
   "nbconvert_exporter": "python",
   "pygments_lexer": "ipython3",
   "version": "3.9.12"
  }
 },
 "nbformat": 4,
 "nbformat_minor": 5
}
