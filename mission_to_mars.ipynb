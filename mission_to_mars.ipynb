{
 "cells": [
  {
   "cell_type": "code",
   "execution_count": 22,
   "id": "d858969d",
   "metadata": {},
   "outputs": [],
   "source": [
    "from splinter import Browser\n",
    "from bs4 import BeautifulSoup as bs\n",
    "from webdriver_manager.chrome import ChromeDriverManager as CDM\n",
    "from config import chromeDriver\n"
   ]
  },
  {
   "cell_type": "markdown",
   "id": "28c47abb",
   "metadata": {},
   "source": [
    "## Red Planet Science .com\n",
    "https://redplanetscience.com/"
   ]
  },
  {
   "cell_type": "code",
   "execution_count": 36,
   "id": "88e7137f",
   "metadata": {},
   "outputs": [],
   "source": [
    "url = \"https://redplanetscience.com\""
   ]
  },
  {
   "cell_type": "code",
   "execution_count": 21,
   "id": "2bf55a18",
   "metadata": {},
   "outputs": [],
   "source": [
    "browser = Browser(\"chrome\", executable_path=chromeDriver, headless=False)"
   ]
  },
  {
   "cell_type": "code",
   "execution_count": 32,
   "id": "6f009199",
   "metadata": {},
   "outputs": [
    {
     "data": {
      "text/plain": [
       "True"
      ]
     },
     "execution_count": 32,
     "metadata": {},
     "output_type": "execute_result"
    }
   ],
   "source": [
    "browser.visit(url)\n",
    "browser.is_element_present_by_css(\"div.list_text\", wait_time=3)"
   ]
  },
  {
   "cell_type": "code",
   "execution_count": 33,
   "id": "9e9d30a6",
   "metadata": {},
   "outputs": [],
   "source": [
    "html = browser.html\n",
    "soup = bs(html, \"html.parser\")"
   ]
  },
  {
   "cell_type": "markdown",
   "id": "a2b99bac",
   "metadata": {},
   "source": [
    "Website Content Article Structure:\n",
    "- tag: div class=\"row\"\n",
    "  - tag: div class = \"list_text\"\n",
    "    - tag: div class = \"list_date\"\n",
    "    - tag: div class = \"content_title\"\n",
    "    - tag: div class = \"article_teaser_body\"\n",
    "\n",
    "\n"
   ]
  },
  {
   "cell_type": "code",
   "execution_count": 35,
   "id": "c3959a39",
   "metadata": {},
   "outputs": [
    {
     "data": {
      "text/plain": [
       "{'title': 'NASA Invites Public to Share Excitement of Mars 2020 Perseverance Rover Launch',\n",
       " 'date': 'August 16, 2022',\n",
       " 'summary': 'There are lots of ways to participate in the historic event, which is targeted for July 30.'}"
      ]
     },
     "execution_count": 35,
     "metadata": {},
     "output_type": "execute_result"
    }
   ],
   "source": [
    "article = soup.find(\"div\", attrs={\"class\":\"row\"})\n",
    "news_title = article.find('div', attrs={\"class\":\"content_title\"}).get_text()\n",
    "news_date = article.find(\"div\", attrs={\"class\":\"list_date\"}).get_text()\n",
    "news_summary = article.find(\"div\", attrs={\"class\":\"article_teaser_body\"}).get_text()\n",
    "{\"title\" : news_title, \"date\" : news_date, \"summary\" : news_summary}"
   ]
  },
  {
   "cell_type": "markdown",
   "id": "104cefd5",
   "metadata": {},
   "source": [
    "## "
   ]
  }
 ],
 "metadata": {
  "kernelspec": {
   "display_name": "Python 3 (ipykernel)",
   "language": "python",
   "name": "python3"
  },
  "language_info": {
   "codemirror_mode": {
    "name": "ipython",
    "version": 3
   },
   "file_extension": ".py",
   "mimetype": "text/x-python",
   "name": "python",
   "nbconvert_exporter": "python",
   "pygments_lexer": "ipython3",
   "version": "3.9.12"
  }
 },
 "nbformat": 4,
 "nbformat_minor": 5
}
